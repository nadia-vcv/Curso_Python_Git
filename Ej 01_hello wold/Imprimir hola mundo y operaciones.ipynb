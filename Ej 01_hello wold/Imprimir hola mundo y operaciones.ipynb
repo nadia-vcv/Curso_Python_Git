{
 "cells": [
  {
   "cell_type": "markdown",
   "id": "608879fb",
   "metadata": {},
   "source": [
    "# Mi primer programa \n",
    "## Segunda linea \n",
    "**Negritas**\n"
   ]
  },
  {
   "cell_type": "code",
   "execution_count": 20,
   "id": "b7ddb4de",
   "metadata": {},
   "outputs": [
    {
     "name": "stdout",
     "output_type": "stream",
     "text": [
      "hola mundo\n"
     ]
    }
   ],
   "source": [
    "print(\"hola mundo\")"
   ]
  },
  {
   "cell_type": "code",
   "execution_count": 21,
   "id": "0d07fcb9",
   "metadata": {},
   "outputs": [
    {
     "name": "stdout",
     "output_type": "stream",
     "text": [
      "hola mundo\n",
      "hola mundo2\n"
     ]
    }
   ],
   "source": [
    "print(\"hola mundo\")\n",
    "print(\"hola mundo2\") "
   ]
  },
  {
   "cell_type": "code",
   "execution_count": 22,
   "id": "d440d664",
   "metadata": {},
   "outputs": [],
   "source": [
    "a=1\n",
    "b=2"
   ]
  },
  {
   "cell_type": "markdown",
   "id": "3354cff8",
   "metadata": {},
   "source": [
    "Imprime c"
   ]
  },
  {
   "cell_type": "code",
   "execution_count": 23,
   "id": "0c9904ee",
   "metadata": {},
   "outputs": [],
   "source": [
    "c=a+b"
   ]
  },
  {
   "cell_type": "code",
   "execution_count": 24,
   "id": "43e1757b",
   "metadata": {},
   "outputs": [
    {
     "name": "stdout",
     "output_type": "stream",
     "text": [
      "3\n"
     ]
    }
   ],
   "source": [
    "print(c)"
   ]
  },
  {
   "cell_type": "code",
   "execution_count": 25,
   "id": "ebb8d22a",
   "metadata": {},
   "outputs": [
    {
     "data": {
      "text/plain": [
       "8"
      ]
     },
     "execution_count": 25,
     "metadata": {},
     "output_type": "execute_result"
    }
   ],
   "source": [
    "1+7"
   ]
  },
  {
   "cell_type": "code",
   "execution_count": null,
   "id": "7231713b",
   "metadata": {},
   "outputs": [],
   "source": []
  }
 ],
 "metadata": {
  "kernelspec": {
   "display_name": "base",
   "language": "python",
   "name": "python3"
  },
  "language_info": {
   "codemirror_mode": {
    "name": "ipython",
    "version": 3
   },
   "file_extension": ".py",
   "mimetype": "text/x-python",
   "name": "python",
   "nbconvert_exporter": "python",
   "pygments_lexer": "ipython3",
   "version": "3.13.5"
  }
 },
 "nbformat": 4,
 "nbformat_minor": 5
}
