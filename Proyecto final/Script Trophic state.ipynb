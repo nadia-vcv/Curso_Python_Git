{
 "cells": [
  {
   "cell_type": "markdown",
   "id": "fce8c3ae",
   "metadata": {},
   "source": [
    "# Script to identify the trophic state in a list of lakes with total phosphorus (PT) data "
   ]
  },
  {
   "cell_type": "markdown",
   "id": "530db77e",
   "metadata": {},
   "source": [
    "\n",
    "Trophic means \"of or relating to nutrition\". The thophic state index is a classification system designed to rate lakes, ponds and resrvoirs base on the amount of biological productivity ocuring in water (USF Water Institute, 2025). \n",
    "There are some parametrets such chlorophyll, total phosphorus and total nitrogen that help us to classify and identify de throphic state. \n",
    "\n",
    "Diferent authors have reported the limits for each state. \n",
    "- Oligotrophic: where waterbodies have the lowest level of productivity;\n",
    "- Mesotrophic: where waterbodies have a moderate level of biological productivity;\n",
    "- Eutrophic: where waterbodies have a high level of biological productivity;\n",
    "- Hypereutrophic: where waterbodies have the highest level of biological productivity. \n",
    "\n",
    "The trophic state of a waterbody can also affect its use or perceived utility. \n",
    "\n",
    "Phosphorus is a nutrient that contributes to the growth of photosynthetic organisms. \n",
    "\n",
    "**In this script, the clasification is based on the CEPIS methodology.**\n"
   ]
  },
  {
   "cell_type": "markdown",
   "id": "6dd0f10f",
   "metadata": {},
   "source": [
    "## References\n",
    "- USF Water Institute. (2025). Learn more: Trophic State Index (TSI). Retrieved from https://lake.wateratlas.usf.edu/library/learn-more/learnmore.aspx?toolsection=lm_tsi\n",
    "- CEPIS. (2001).  Metodologías simplificadas para la evaluación de eutroficación en lagos cálidos tropicales. Centro Panamericano de Ingeniería Sanitaria y Ciencias del Ambiente. "
   ]
  },
  {
   "cell_type": "markdown",
   "id": "5f346c79",
   "metadata": {},
   "source": [
    "## Fast check of data"
   ]
  },
  {
   "cell_type": "code",
   "execution_count": 18,
   "id": "068bc469",
   "metadata": {},
   "outputs": [
    {
     "name": "stdout",
     "output_type": "stream",
     "text": [
      "          Lago                     Referencia Mes  Estación   Época  \\\n",
      "0        Laguna       Herrera y Nadaoka, 2020   7    Verano  Verano   \n",
      "1        Laguna       Herrera y Nadaoka, 2020  12     Otoño    Otro   \n",
      "2  Experimento             Kelly et al., 2021   7    Verano  Verano   \n",
      "3     Kastoria   Stefanidis y Dimitriou, 2019   1  Invierno    Otro   \n",
      "4     Kastoria   Stefanidis y Dimitriou, 2020   7    Verano  Verano   \n",
      "\n",
      "                  Lugar  Hemisferio  Zona climática   PT (mg/L)  NT (mg/L)  \\\n",
      "0              Filipinas       Norte       Tropical        0.07       0.02   \n",
      "1              Filipinas       Norte       Tropical        0.09       0.04   \n",
      "2        Mississipi, USA       Norte     Subtropical       0.10       0.55   \n",
      "3  Grecia (mediterráneo)       Norte        Templada       0.20       0.27   \n",
      "4  Grecia (mediterráneo)       Norte        Templada       0.20       0.27   \n",
      "\n",
      "   PT (mmol)  NT (mmol)  \n",
      "0     0.0023       0.00  \n",
      "1     0.0029       0.00  \n",
      "2     0.0031       0.04  \n",
      "3     0.0065       0.02  \n",
      "4     0.0065       0.02  \n",
      "<class 'pandas.core.frame.DataFrame'>\n",
      "RangeIndex: 92 entries, 0 to 91\n",
      "Data columns (total 12 columns):\n",
      " #   Column           Non-Null Count  Dtype  \n",
      "---  ------           --------------  -----  \n",
      " 0   Lago             92 non-null     object \n",
      " 1   Referencia       92 non-null     object \n",
      " 2   Mes              91 non-null     object \n",
      " 3   Estación         91 non-null     object \n",
      " 4   Época            91 non-null     object \n",
      " 5   Lugar            92 non-null     object \n",
      " 6   Hemisferio       92 non-null     object \n",
      " 7   Zona climática   92 non-null     object \n",
      " 8   PT (mg/L)        92 non-null     float64\n",
      " 9   NT (mg/L)        92 non-null     float64\n",
      " 10  PT (mmol)        92 non-null     float64\n",
      " 11  NT (mmol)        92 non-null     float64\n",
      "dtypes: float64(4), object(8)\n",
      "memory usage: 8.8+ KB\n",
      "None\n",
      "       PT (mg/L)  NT (mg/L)  PT (mmol)  NT (mmol)\n",
      "count  92.000000  92.000000  92.000000  92.000000\n",
      "mean    0.383109   2.788804   0.012424   0.199022\n",
      "std     1.428908   4.681984   0.046317   0.334168\n",
      "min     0.001000   0.010000   0.000000   0.000000\n",
      "25%     0.030000   0.487500   0.000900   0.037500\n",
      "50%     0.070000   0.875000   0.002300   0.065000\n",
      "75%     0.185000   2.637500   0.005975   0.192500\n",
      "max    11.700000  26.900000   0.378600   1.920000\n",
      "Lago               0\n",
      "Referencia         0\n",
      "Mes                1\n",
      "Estación           1\n",
      "Época              1\n",
      "Lugar              0\n",
      "Hemisferio         0\n",
      "Zona climática     0\n",
      "PT (mg/L)          0\n",
      "NT (mg/L)          0\n",
      "PT (mmol)          0\n",
      "NT (mmol)          0\n",
      "dtype: int64\n"
     ]
    }
   ],
   "source": [
    "# First we need want to analize the data base\n",
    "\n",
    "import pandas as pd\n",
    "import matplotlib.pyplot as plt\n",
    "\n",
    "df = pd.read_csv(\"data_lakes.csv\")\n",
    "\n",
    "# Print information\n",
    "\n",
    "print(df.head())\n",
    "print(df.info())\n",
    "print(df.describe())\n",
    "print(df.isnull().sum())\n",
    "\n"
   ]
  },
  {
   "cell_type": "code",
   "execution_count": 19,
   "id": "365f0011",
   "metadata": {},
   "outputs": [
    {
     "name": "stdout",
     "output_type": "stream",
     "text": [
      "   PT (mg/L)  NT (mg/L)  PT_NT_ratio\n",
      "0       0.07       0.02     3.500000\n",
      "1       0.09       0.04     2.250000\n",
      "2       0.10       0.55     0.181818\n",
      "3       0.20       0.27     0.740741\n",
      "4       0.20       0.27     0.740741\n"
     ]
    }
   ],
   "source": [
    "# Creat new PT/NT\n",
    "df[\"PT_NT_ratio\"] = df[\"PT (mg/L)\"] / df[\"NT (mg/L)\"]\n",
    "\n",
    "\n",
    "print(df[[\"PT (mg/L)\", \"NT (mg/L)\", \"PT_NT_ratio\"]].head())"
   ]
  },
  {
   "cell_type": "code",
   "execution_count": 20,
   "id": "9aa120ee",
   "metadata": {},
   "outputs": [
    {
     "name": "stdout",
     "output_type": "stream",
     "text": [
      "\n",
      "Variable: PT (mg/L)\n",
      "Shapiro-Wilk statistic = 0.2530, p-value = 0.0000\n",
      "❌ Reject H0: data is NOT normally distributed\n"
     ]
    }
   ],
   "source": [
    "from scipy.stats import shapiro\n",
    "\n",
    "# Shapiro-Wilk normality test for PT, NT and PT/NT ratio\n",
    "for col in [\"PT (mg/L)\"]:\n",
    "    stat, p = shapiro(df[col].dropna())  # drop NaN values\n",
    "    print(f\"\\nVariable: {col}\")\n",
    "    print(f\"Shapiro-Wilk statistic = {stat:.4f}, p-value = {p:.4f}\")\n",
    "\n",
    "    if p > 0.05:\n",
    "        print(\"✅ Fail to reject H0: data seems normally distributed\")\n",
    "    else:\n",
    "        print(\"❌ Reject H0: data is NOT normally distributed\")"
   ]
  },
  {
   "cell_type": "code",
   "execution_count": 21,
   "id": "2e6d1e4d",
   "metadata": {},
   "outputs": [
    {
     "data": {
      "image/png": "[encoded data removed]",
      "text/plain": [
       "<Figure size 500x500 with 1 Axes>"
      ]
     },
     "metadata": {},
     "output_type": "display_data"
    }
   ],
   "source": [
    "import matplotlib.pyplot as plt\n",
    "import seaborn as sns\n",
    "\n",
    "# Select the variables we want to plot\n",
    "vars_to_plot = [\"PT (mg/L)\"]\n",
    "\n",
    "plt.figure(figsize=(5,5))\n",
    "sns.boxplot(data=df[vars_to_plot])\n",
    "plt.title(\"Boxplots of TP\")\n",
    "plt.ylabel(\"Values\")\n",
    "plt.show()"
   ]
  },
  {
   "cell_type": "markdown",
   "id": "2cceffe4",
   "metadata": {},
   "source": [
    "## Script to determine the trophic state"
   ]
  },
  {
   "cell_type": "code",
   "execution_count": 22,
   "id": "3b852905",
   "metadata": {},
   "outputs": [
    {
     "name": "stdout",
     "output_type": "stream",
     "text": [
      "   PT (mg/L)   Trophic_State\n",
      "0       0.07     Mesotrophic\n",
      "1       0.09       Eutrophic\n",
      "2       0.10       Eutrophic\n",
      "3       0.20  Hypereutrophic\n",
      "4       0.20  Hypereutrophic\n"
     ]
    }
   ],
   "source": [
    "# Function to classify trophic state based on PT\n",
    "def classify_trophic_state(pt_value):\n",
    "    if pt_value < 0.04:\n",
    "        return \"Oligotrophic\"\n",
    "    elif pt_value < 0.08:\n",
    "        return \"Mesotrophic\"\n",
    "    elif pt_value < 0.2:\n",
    "        return \"Eutrophic\"\n",
    "    else:\n",
    "        return \"Hypereutrophic\"\n",
    "\n",
    "# Apply classification to the dataset\n",
    "df[\"Trophic_State\"] = df[\"PT (mg/L)\"].apply(classify_trophic_state)\n",
    "\n",
    "# Show a preview\n",
    "print(df[[\"PT (mg/L)\", \"Trophic_State\"]].head())"
   ]
  },
  {
   "cell_type": "code",
   "execution_count": 23,
   "id": "f8a43c2a",
   "metadata": {},
   "outputs": [
    {
     "name": "stdout",
     "output_type": "stream",
     "text": [
      "\n",
      "Trophic state distribution:\n",
      "Trophic_State\n",
      "Oligotrophic      30\n",
      "Hypereutrophic    23\n",
      "Eutrophic         21\n",
      "Mesotrophic       18\n",
      "Name: count, dtype: int64\n"
     ]
    },
    {
     "name": "stderr",
     "output_type": "stream",
     "text": [
      "C:\\Users\\Usuario\\AppData\\Local\\Temp\\ipykernel_7048\\2908054128.py:24: FutureWarning: \n",
      "\n",
      "Passing `palette` without assigning `hue` is deprecated and will be removed in v0.14.0. Assign the `x` variable to `hue` and set `legend=False` for the same effect.\n",
      "\n",
      "  sns.countplot(data=df, x=\"Trophic_State\", order=[\"Oligotrophic\",\"Mesotrophic\",\"Eutrophic\",\"Hypereutrophic\"], palette=\"viridis\")\n"
     ]
    },
    {
     "data": {
      "image/png": "[encoded data removed]",
      "text/plain": [
       "<Figure size 700x500 with 1 Axes>"
      ]
     },
     "metadata": {},
     "output_type": "display_data"
    }
   ],
   "source": [
    "import matplotlib.pyplot as plt\n",
    "import seaborn as sns\n",
    "\n",
    "# Function to classify trophic state based on PT (mg/L)\n",
    "def classify_trophic_state(pt_value):\n",
    "    if pt_value < 0.04:\n",
    "        return \"Oligotrophic\"\n",
    "    elif pt_value < 0.08:\n",
    "        return \"Mesotrophic\"\n",
    "    elif pt_value < 0.2:\n",
    "        return \"Eutrophic\"\n",
    "    else:\n",
    "        return \"Hypereutrophic\"\n",
    "\n",
    "# Apply classification to the dataset\n",
    "df[\"Trophic_State\"] = df[\"PT (mg/L)\"].apply(classify_trophic_state)\n",
    "\n",
    "# Summary of trophic states\n",
    "print(\"\\nTrophic state distribution:\")\n",
    "print(df[\"Trophic_State\"].value_counts())\n",
    "\n",
    "# Bar plot of trophic state distribution\n",
    "plt.figure(figsize=(7,5))\n",
    "sns.countplot(data=df, x=\"Trophic_State\", order=[\"Oligotrophic\",\"Mesotrophic\",\"Eutrophic\",\"Hypereutrophic\"], palette=\"viridis\")\n",
    "plt.title(\"Trophic State Distribution (based on PT)\")\n",
    "plt.xlabel(\"Trophic State\")\n",
    "plt.ylabel(\"Number of Samples\")\n",
    "plt.show()"
   ]
  }
 ],
 "metadata": {
  "kernelspec": {
   "display_name": "base",
   "language": "python",
   "name": "python3"
  },
  "language_info": {
   "codemirror_mode": {
    "name": "ipython",
    "version": 3
   },
   "file_extension": ".py",
   "mimetype": "text/x-python",
   "name": "python",
   "nbconvert_exporter": "python",
   "pygments_lexer": "ipython3",
   "version": "3.13.5"
  }
 },
 "nbformat": 4,
 "nbformat_minor": 5
}
