{
 "cells": [
  {
   "cell_type": "code",
   "execution_count": 6,
   "id": "ce50f6ab",
   "metadata": {},
   "outputs": [],
   "source": [
    "def saludar():\n",
    "    print(\"¡Hola, mundo!\")\n",
    "    "
   ]
  },
  {
   "cell_type": "code",
   "execution_count": 7,
   "id": "8e0957fd",
   "metadata": {},
   "outputs": [
    {
     "name": "stdout",
     "output_type": "stream",
     "text": [
      "¡Hola, mundo!\n"
     ]
    }
   ],
   "source": [
    "saludar() #Llamada a la función\n"
   ]
  },
  {
   "cell_type": "code",
   "execution_count": 15,
   "id": "83c964c5",
   "metadata": {},
   "outputs": [],
   "source": [
    " def suma(a, b):\n",
    "   return a + b"
   ]
  },
  {
   "cell_type": "code",
   "execution_count": 16,
   "id": "def060dd",
   "metadata": {},
   "outputs": [
    {
     "name": "stdout",
     "output_type": "stream",
     "text": [
      "8\n"
     ]
    }
   ],
   "source": [
    "resultado = suma(3, 5)\n",
    "print(resultado) #Salida: 8"
   ]
  },
  {
   "cell_type": "code",
   "execution_count": 19,
   "id": "bbc316e0",
   "metadata": {},
   "outputs": [],
   "source": [
    "def square_number(num):\n",
    "    return num * num"
   ]
  },
  {
   "cell_type": "code",
   "execution_count": 20,
   "id": "e0e9647b",
   "metadata": {},
   "outputs": [
    {
     "name": "stdout",
     "output_type": "stream",
     "text": [
      "16\n"
     ]
    }
   ],
   "source": [
    "print(square_number(4))"
   ]
  },
  {
   "cell_type": "code",
   "execution_count": 21,
   "id": "1d0c8aff",
   "metadata": {},
   "outputs": [],
   "source": [
    "def sum_two_numbers(num1, num2):\n",
    "    return num1 + num2"
   ]
  },
  {
   "cell_type": "code",
   "execution_count": 24,
   "id": "564e2bf9",
   "metadata": {},
   "outputs": [
    {
     "name": "stdout",
     "output_type": "stream",
     "text": [
      "5\n"
     ]
    }
   ],
   "source": [
    "print(sum_two_numbers(3, 2))"
   ]
  },
  {
   "cell_type": "code",
   "execution_count": 25,
   "id": "88933ae7",
   "metadata": {},
   "outputs": [],
   "source": [
    "def square_of_sum(num1, num2):\n",
    "    return square_number(sum_two_numbers(num1, num2))"
   ]
  },
  {
   "cell_type": "code",
   "execution_count": 26,
   "id": "1c4426c9",
   "metadata": {},
   "outputs": [
    {
     "name": "stdout",
     "output_type": "stream",
     "text": [
      "25\n"
     ]
    }
   ],
   "source": [
    "print(square_of_sum(2, 3))"
   ]
  }
 ],
 "metadata": {
  "kernelspec": {
   "display_name": "base",
   "language": "python",
   "name": "python3"
  },
  "language_info": {
   "codemirror_mode": {
    "name": "ipython",
    "version": 3
   },
   "file_extension": ".py",
   "mimetype": "text/x-python",
   "name": "python",
   "nbconvert_exporter": "python",
   "pygments_lexer": "ipython3",
   "version": "3.13.5"
  }
 },
 "nbformat": 4,
 "nbformat_minor": 5
}
