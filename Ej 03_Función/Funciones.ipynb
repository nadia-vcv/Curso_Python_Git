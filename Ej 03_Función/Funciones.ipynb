{
 "cells": [
  {
   "cell_type": "code",
   "execution_count": 6,
   "id": "ce50f6ab",
   "metadata": {},
   "outputs": [],
   "source": [
    "def saludar():\n",
    "    print(\"¡Hola, mundo!\")\n",
    "    "
   ]
  },
  {
   "cell_type": "code",
   "execution_count": 7,
   "id": "8e0957fd",
   "metadata": {},
   "outputs": [
    {
     "name": "stdout",
     "output_type": "stream",
     "text": [
      "¡Hola, mundo!\n"
     ]
    }
   ],
   "source": [
    "saludar() #Llamada a la función\n"
   ]
  },
  {
   "cell_type": "code",
   "execution_count": 15,
   "id": "83c964c5",
   "metadata": {},
   "outputs": [],
   "source": [
    " def suma(a, b):\n",
    "   return a + b"
   ]
  },
  {
   "cell_type": "code",
   "execution_count": 16,
   "id": "def060dd",
   "metadata": {},
   "outputs": [
    {
     "name": "stdout",
     "output_type": "stream",
     "text": [
      "8\n"
     ]
    }
   ],
   "source": [
    "resultado = suma(3, 5)\n",
    "print(resultado) #Salida: 8"
   ]
  },
  {
   "cell_type": "code",
   "execution_count": 19,
   "id": "bbc316e0",
   "metadata": {},
   "outputs": [],
   "source": [
    "def square_number(num):\n",
    "    return num * num"
   ]
  },
  {
   "cell_type": "code",
   "execution_count": 20,
   "id": "e0e9647b",
   "metadata": {},
   "outputs": [
    {
     "name": "stdout",
     "output_type": "stream",
     "text": [
      "16\n"
     ]
    }
   ],
   "source": [
    "print(square_number(4))"
   ]
  },
  {
   "cell_type": "code",
   "execution_count": 21,
   "id": "1d0c8aff",
   "metadata": {},
   "outputs": [],
   "source": [
    "def sum_two_numbers(num1, num2):\n",
    "    return num1 + num2"
   ]
  },
  {
   "cell_type": "code",
   "execution_count": 24,
   "id": "564e2bf9",
   "metadata": {},
   "outputs": [
    {
     "name": "stdout",
     "output_type": "stream",
     "text": [
      "5\n"
     ]
    }
   ],
   "source": [
    "print(sum_two_numbers(3, 2))"
   ]
  },
  {
   "cell_type": "code",
   "execution_count": 25,
   "id": "88933ae7",
   "metadata": {},
   "outputs": [],
   "source": [
    "def square_of_sum(num1, num2):\n",
    "    return square_number(sum_two_numbers(num1, num2))"
   ]
  },
  {
   "cell_type": "code",
   "execution_count": null,
   "id": "1c4426c9",
   "metadata": {},
   "outputs": [
    {
     "name": "stdout",
     "output_type": "stream",
     "text": [
      "25\n"
     ]
    }
   ],
   "source": [
    "print(square_of_sum(2, 3))"
   ]
  },
  {
   "cell_type": "markdown",
   "id": "606a5a10",
   "metadata": {},
   "source": [
    "### $$ f(x)= \\frac{1}{x+3}$$"
   ]
  },
  {
   "cell_type": "code",
   "execution_count": 1,
   "id": "e858cbc7",
   "metadata": {},
   "outputs": [],
   "source": [
    "def add_tree(x):\n",
    "    return x + 3"
   ]
  },
  {
   "cell_type": "code",
   "execution_count": 2,
   "id": "3fdf4892",
   "metadata": {},
   "outputs": [
    {
     "name": "stdout",
     "output_type": "stream",
     "text": [
      "4\n"
     ]
    }
   ],
   "source": [
    "print(add_tree(1))"
   ]
  },
  {
   "cell_type": "code",
   "execution_count": 3,
   "id": "01cb6eb6",
   "metadata": {},
   "outputs": [],
   "source": [
    "def reciprocal(f):\n",
    "    return 1/f"
   ]
  },
  {
   "cell_type": "code",
   "execution_count": 6,
   "id": "2358544b",
   "metadata": {},
   "outputs": [],
   "source": [
    "def composite_function(x):\n",
    "    return reciprocal(add_tree(x))"
   ]
  },
  {
   "cell_type": "code",
   "execution_count": 7,
   "id": "a4f768f7",
   "metadata": {},
   "outputs": [
    {
     "data": {
      "text/plain": [
       "0.25"
      ]
     },
     "execution_count": 7,
     "metadata": {},
     "output_type": "execute_result"
    }
   ],
   "source": [
    "composite_function(1)"
   ]
  },
  {
   "cell_type": "code",
   "execution_count": 10,
   "id": "0f241548",
   "metadata": {},
   "outputs": [
    {
     "data": {
      "text/plain": [
       "0.32"
      ]
     },
     "execution_count": 10,
     "metadata": {},
     "output_type": "execute_result"
    }
   ],
   "source": [
    "composite_function(composite_function(5))"
   ]
  }
 ],
 "metadata": {
  "kernelspec": {
   "display_name": "base",
   "language": "python",
   "name": "python3"
  },
  "language_info": {
   "codemirror_mode": {
    "name": "ipython",
    "version": 3
   },
   "file_extension": ".py",
   "mimetype": "text/x-python",
   "name": "python",
   "nbconvert_exporter": "python",
   "pygments_lexer": "ipython3",
   "version": "3.13.5"
  }
 },
 "nbformat": 4,
 "nbformat_minor": 5
}
